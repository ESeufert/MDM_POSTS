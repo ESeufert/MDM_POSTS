{
 "cells": [
  {
   "cell_type": "code",
   "execution_count": 12,
   "id": "a66668cd-229a-4db5-970f-587369cef1ba",
   "metadata": {},
   "outputs": [
    {
     "name": "stdout",
     "output_type": "stream",
     "text": [
      "Saved image with extended text box as 'annotated_a.jpg'.\n"
     ]
    }
   ],
   "source": [
    "from PIL import Image, ImageDraw, ImageFont\n",
    "import os\n",
    "\n",
    "def add_text_box_below_image(image_filename, text):\n",
    "    # Load image\n",
    "    image = Image.open(image_filename).convert(\"RGBA\")\n",
    "    width, height = image.size\n",
    "\n",
    "    # Font setup (Arial from macOS system path)\n",
    "    try:\n",
    "        font = ImageFont.truetype(\"/System/Library/Fonts/Supplemental/Arial.ttf\", 30)\n",
    "    except IOError:\n",
    "        raise Exception(\"Arial font not found. Adjust the path if necessary.\")\n",
    "\n",
    "    # Set padding and calculate text box size\n",
    "    padding = 10\n",
    "    dummy_draw = ImageDraw.Draw(image)\n",
    "    text_width, text_height = dummy_draw.textsize(text, font=font)\n",
    "\n",
    "    box_width = int(width * 1)\n",
    "    box_height = text_height + 2 * padding\n",
    "    new_height = height + box_height\n",
    "\n",
    "    # Create new image with extended canvas\n",
    "    new_image = Image.new('RGBA', (width, new_height), (255, 255, 255, 0))\n",
    "    new_image.paste(image, (0, 0))\n",
    "\n",
    "    # Position and draw box\n",
    "    box_x0 = (width - box_width) // 2\n",
    "    box_x1 = box_x0 + box_width\n",
    "\n",
    "    # --- Sample background color from bottom-center pixel of original image\n",
    "    background_sample = image.getpixel((width // 2, height - 1))  # RGBA\n",
    "\n",
    "    # Make the sampled color semi-transparent\n",
    "    background_with_alpha = background_sample[:3] + (220,)  # Add alpha\n",
    "\n",
    "    # Draw the new box using the sampled color\n",
    "    overlay = Image.new('RGBA', (width, box_height), (255, 255, 255, 0))\n",
    "    draw = ImageDraw.Draw(overlay)\n",
    "    draw.rectangle([box_x0, 0, box_x1, box_height], fill=background_with_alpha)\n",
    "\n",
    "    # Draw text centered inside the new box\n",
    "    text_x = (width - text_width) // 2\n",
    "    text_y = padding\n",
    "    draw.text((text_x, text_y), text, font=font, fill=(0, 0, 0, 255))\n",
    "\n",
    "    # Paste the box onto the bottom of the new image\n",
    "    new_image.paste(overlay, (0, height), overlay)\n",
    "\n",
    "    # Save result as .jpg\n",
    "    base_name = os.path.splitext(os.path.basename(image_filename))[0]\n",
    "    output_filename = f\"annotated_{base_name}.jpg\"\n",
    "    new_image.convert(\"RGB\").save(output_filename, format=\"JPEG\")\n",
    "    print(f\"Saved image with extended text box as '{output_filename}'.\")\n",
    "\n",
    "# Example usage\n",
    "add_text_box_below_image(\"a.png\", \\\n",
    "    \"https://mobiledevmemo.com/mobile-ad-creative-how-to-produce-test-and-deploy-advertising-creative-at-scale/\")\n"
   ]
  },
  {
   "cell_type": "code",
   "execution_count": null,
   "id": "a2a16762-ae02-480b-b8c6-07f6d9e2e82c",
   "metadata": {},
   "outputs": [],
   "source": []
  }
 ],
 "metadata": {
  "kernelspec": {
   "display_name": "Python 3 (ipykernel)",
   "language": "python",
   "name": "python3"
  },
  "language_info": {
   "codemirror_mode": {
    "name": "ipython",
    "version": 3
   },
   "file_extension": ".py",
   "mimetype": "text/x-python",
   "name": "python",
   "nbconvert_exporter": "python",
   "pygments_lexer": "ipython3",
   "version": "3.9.19"
  }
 },
 "nbformat": 4,
 "nbformat_minor": 5
}
